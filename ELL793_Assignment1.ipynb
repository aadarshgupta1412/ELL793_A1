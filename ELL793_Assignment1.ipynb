{
  "nbformat": 4,
  "nbformat_minor": 0,
  "metadata": {
    "colab": {
      "name": "ELL793_Assignment1.ipynb",
      "provenance": [],
      "collapsed_sections": []
    },
    "kernelspec": {
      "name": "python3",
      "display_name": "Python 3"
    },
    "language_info": {
      "name": "python"
    }
  },
  "cells": [
    {
      "cell_type": "markdown",
      "source": [
        "## **Assignment 1**"
      ],
      "metadata": {
        "id": "CQYp4lnEKI33"
      }
    },
    {
      "cell_type": "code",
      "source": [
        "import numpy as np\n",
        "import pandas as pd\n",
        "import io\n",
        "import math\n",
        "import cv2\n",
        "import os\n",
        "import glob\n",
        "from scipy import linalg\n",
        "from numpy.linalg import svd\n",
        "import scipy\n",
        "import mpmath"
      ],
      "metadata": {
        "id": "Mpl6fcomKI34"
      },
      "execution_count": 1,
      "outputs": []
    },
    {
      "cell_type": "code",
      "source": [
        "def adc(data): #gives Average Distance and Centre\n",
        "  avg_dist = 0\n",
        "  num_points = data.shape[0]\n",
        "  centre = np.mean(data, axis=0)\n",
        "  for x in data:\n",
        "    avg_dist += np.linalg.norm(x-centre)\n",
        "  avg_dist/=num_points\n",
        "  return avg_dist, centre"
      ],
      "metadata": {
        "id": "3Dp6pxrtKO4c"
      },
      "execution_count": 2,
      "outputs": []
    },
    {
      "cell_type": "code",
      "source": [
        "def normalize(data, value):\n",
        "\n",
        "  def norm_matrix(data, value):\n",
        "    dist, centre = adc(data)\n",
        "    if data.shape[1] == 2:\n",
        "      T = np.array([[1, 0, -1*centre[0]], [0, 1, -1*centre[1]], [0, 0, 1]])\n",
        "    else:\n",
        "      T = np.array([[1, 0, 0, -1*centre[0]], [0, 1, 0, -1*centre[1]], [0, 0, 1, -1*centre[2]], [0, 0, 0, 1]])\n",
        "    T*=value/dist\n",
        "    v = data.shape[1]\n",
        "    T[v, v] = 1\n",
        "    return T\n",
        "\n",
        "  def normalized_coord(data, value):\n",
        "    T = norm_matrix(data, value)\n",
        "    num_points = data.shape[0]\n",
        "    a1 = [np.ones(num_points)]\n",
        "    coord = np.append(data.T, a1, axis = 0)\n",
        "    xnew = np.dot(T, coord)\n",
        "    c2 = np.mean(data, axis=0)\n",
        "    normalised_coord = xnew[0:data.shape[1]].T\n",
        "    return normalised_coord\n",
        "\n",
        "  T = norm_matrix(data, value)\n",
        "  datan = normalized_coord(data, value)\n",
        "  return T, datan"
      ],
      "metadata": {
        "id": "nxXSKBpWKQFN"
      },
      "execution_count": 3,
      "outputs": []
    },
    {
      "cell_type": "code",
      "source": [
        "def estimate_P(x, X, T, U):\n",
        "  num_points = X.shape[0]\n",
        "  X = np.append(X, np.ones((num_points, 1)), axis = 1)\n",
        "  x = np.append(x, np.ones((num_points, 1)), axis = 1)\n",
        "  ax = np.append(-X,np.zeros((X.shape[0],4)), axis = 1)\n",
        "  ax = np.append(ax,x[:,0][:, np.newaxis]*X, axis = 1)\n",
        "  ay = np.append(np.zeros((X.shape[0],4)),-X, axis = 1)\n",
        "  ay = np.append(ay,x[:,1][:, np.newaxis]*X, axis = 1)\n",
        "  M = np.append(ax,ay, axis = 1).reshape(2*X.shape[0],12)\n",
        "  M = -1*M\n",
        "  u, s, vh = svd(M)\n",
        "  v = vh.T\n",
        "  p = v[:,-1]\n",
        "  Pn = p.reshape(3,4)\n",
        "  P = np.dot(Pn, U)\n",
        "  P = np.dot(np.linalg.inv(T), P)\n",
        "  return Pn, P"
      ],
      "metadata": {
        "id": "erP378J5KI35"
      },
      "execution_count": 55,
      "outputs": []
    },
    {
      "cell_type": "code",
      "source": [
        "def parameters(P):\n",
        "  m = P[:,0:3]\n",
        "  K, R = scipy.linalg.rq(m) \n",
        "  X0 = -np.linalg.inv(m)@P[:,-1]\n",
        "  return K, R, X0"
      ],
      "metadata": {
        "id": "OOSmluMaKVy0"
      },
      "execution_count": 5,
      "outputs": []
    },
    {
      "cell_type": "code",
      "source": [
        "def predict(P, X):\n",
        "  Xtest = np.append(X, np.ones((X.shape[0],1)), axis=1)\n",
        "  xtest = P@Xtest.T\n",
        "  xtest = xtest/xtest[2]\n",
        "  xtest = xtest[0:2].T\n",
        "  return xtest"
      ],
      "metadata": {
        "id": "pNpdILpgKXra"
      },
      "execution_count": 6,
      "outputs": []
    },
    {
      "cell_type": "code",
      "source": [
        "def get_rmse(xtest, x):\n",
        "    return np.sqrt(np.mean((xtest-x)**2))"
      ],
      "metadata": {
        "id": "HgTKonusLXFR"
      },
      "execution_count": 7,
      "outputs": []
    },
    {
      "cell_type": "code",
      "source": [
        "def get_parameters(P):\n",
        "    A = P[:,0:3]\n",
        "    b = P[:,-1]\n",
        "    epsilon = -1\n",
        "    rho = epsilon/np.linalg.norm(A[2])\n",
        "    x0 = rho*rho*np.dot(A[0],A[2])\n",
        "    y0 = rho*rho*np.dot(A[1],A[2])\n",
        "    a1_a3 = np.cross(A[0],A[2])\n",
        "    a2_a3 = np.cross(A[1],A[2])\n",
        "    cos_theta = (-1)*np.dot(a1_a3, a2_a3)/(np.linalg.norm(a1_a3)*np.linalg.norm(a2_a3))\n",
        "    theta = math.acos(cos_theta)*180/math.pi\n",
        "    sin_theta = math.sin(theta*math.pi/180)\n",
        "    alpha = rho*rho*np.linalg.norm(a1_a3)*sin_theta\n",
        "    beta = rho*rho*np.linalg.norm(a2_a3)*sin_theta\n",
        "    K = np.array([[alpha, (-1)*alpha*cos_theta/sin_theta, x0], [0, beta/sin_theta, y0], [0, 0, 1]])   \n",
        "    r3 = rho*A[2]\n",
        "    r1 = a2_a3/np.linalg.norm(a2_a3)\n",
        "    r2 = np.cross(r3, r1)\n",
        "    R = np.empty((0,3))\n",
        "    R = np.append(R, r1.reshape((1,3)), axis=0)\n",
        "    R = np.append(R, r2.reshape((1,3)), axis=0)\n",
        "    R = np.append(R, r3.reshape((1,3)), axis=0)\n",
        "    t = rho*np.dot(np.linalg.inv(K), b)   \n",
        "    print('K:', K, '\\n')\n",
        "    print('R:', R, '\\n')\n",
        "    print('t:', t,'\\n')\n",
        "    return alpha, beta, theta, rho, x0, y0, K, R, t"
      ],
      "metadata": {
        "id": "t4YZuKoTfSvx"
      },
      "execution_count": 56,
      "outputs": []
    },
    {
      "cell_type": "markdown",
      "source": [
        "# Upload file"
      ],
      "metadata": {
        "id": "nO4vg_8OLuvJ"
      }
    },
    {
      "cell_type": "code",
      "source": [
        "X = np.array([[0, 2, 2], [0, 2, 1], [0, 2, 0],[1, 2, 0],[2, 2, 0],[0, 1, 2],[0, 1, 1],[0, 1, 0],[1, 1, 0],[2, 1, 0], [0, 0, 2],[0, 0, 1],[0, 0, 0],[1, 0, 0],[2, 0, 0]])"
      ],
      "metadata": {
        "id": "gk1miXG3ZIqR"
      },
      "execution_count": 9,
      "outputs": []
    },
    {
      "cell_type": "code",
      "source": [
        "from google.colab import files\n",
        "uploaded = files.upload()\n",
        "x1 = np.loadtxt('img1.txt')\n",
        "x2 = np.loadtxt('img2.txt')\n",
        "x3 = np.loadtxt('img3.txt')\n",
        "x4 = np.loadtxt('img4.txt')\n",
        "x5 = np.loadtxt('img5.txt')\n",
        "x6 = np.loadtxt('img6.txt')\n",
        "x7 = np.loadtxt('img7.txt')\n",
        "x8 = np.loadtxt('img8.txt')\n",
        "x9 = np.loadtxt('img9.txt')\n",
        "x10 = np.loadtxt('img10.txt')\n",
        "x11 = np.loadtxt('img11.txt')\n",
        "x12 = np.loadtxt('img12.txt')\n",
        "x13 = np.loadtxt('img13.txt')\n",
        "x14 = np.loadtxt('img14.txt')\n",
        "x15 = np.loadtxt('img15.txt')"
      ],
      "metadata": {
        "colab": {
          "resources": {
            "http://localhost:8080/nbextensions/google.colab/files.js": {
              "data": "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",
              "ok": true,
              "headers": [
                [
                  "content-type",
                  "application/javascript"
                ]
              ],
              "status": 200,
              "status_text": ""
            }
          },
          "base_uri": "https://localhost:8080/",
          "height": 559
        },
        "id": "_Y8kwJ8qJ1Rr",
        "outputId": "a45319e0-2c87-4eca-9059-8d11fec9603c"
      },
      "execution_count": 10,
      "outputs": [
        {
          "output_type": "display_data",
          "data": {
            "text/html": [
              "\n",
              "     <input type=\"file\" id=\"files-b440bc52-ed50-417d-9790-b479be2809f2\" name=\"files[]\" multiple disabled\n",
              "        style=\"border:none\" />\n",
              "     <output id=\"result-b440bc52-ed50-417d-9790-b479be2809f2\">\n",
              "      Upload widget is only available when the cell has been executed in the\n",
              "      current browser session. Please rerun this cell to enable.\n",
              "      </output>\n",
              "      <script src=\"/nbextensions/google.colab/files.js\"></script> "
            ],
            "text/plain": [
              "<IPython.core.display.HTML object>"
            ]
          },
          "metadata": {}
        },
        {
          "output_type": "stream",
          "name": "stdout",
          "text": [
            "Saving img1.txt to img1 (4).txt\n",
            "Saving img2.txt to img2 (2).txt\n",
            "Saving img3.txt to img3 (2).txt\n",
            "Saving img4.txt to img4 (2).txt\n",
            "Saving img5.txt to img5 (2).txt\n",
            "Saving img6.txt to img6 (2).txt\n",
            "Saving img7.txt to img7 (2).txt\n",
            "Saving img8.txt to img8 (2).txt\n",
            "Saving img9.txt to img9 (2).txt\n",
            "Saving img10.txt to img10 (2).txt\n",
            "Saving img11.txt to img11 (2).txt\n",
            "Saving img12.txt to img12 (2).txt\n",
            "Saving img13.txt to img13 (2).txt\n",
            "Saving img14.txt to img14 (2).txt\n",
            "Saving img15.txt to img15 (2).txt\n"
          ]
        }
      ]
    },
    {
      "cell_type": "code",
      "source": [
        "x = (x1, x2, x3, x4, x5, x6, x7, x8, x9, x10, x11, x12, x13, x14, x15)"
      ],
      "metadata": {
        "id": "fab55lucY2SH"
      },
      "execution_count": 11,
      "outputs": []
    },
    {
      "cell_type": "code",
      "source": [
        "rmse, alpha, beta, theta, rho, x0, y0 = [0]*15, [0]*15, [0]*15, [0]*15, [0]*15, [0]*15, [0]*15"
      ],
      "metadata": {
        "id": "K0ZSigW0aMZT"
      },
      "execution_count": 57,
      "outputs": []
    },
    {
      "cell_type": "code",
      "source": [
        "for i in range(len(x)):\n",
        "  print('Performing camera calibration for Image', i+1)\n",
        "  T, xn = normalize(x[i], math.sqrt(2))\n",
        "  U, Xn = normalize(X, math.sqrt(3))\n",
        "  Pn, P = estimate_P(xn, Xn, T, U)\n",
        "  K, R, X0 = parameters(P)\n",
        "  xtest = predict(P, X)\n",
        "  rmse[i] = get_rmse(xtest, x[i])\n",
        "  alpha[i], beta[i], theta[i], rho[i], x0[i], y0[i], K, R, t = get_parameters(P)"
      ],
      "metadata": {
        "colab": {
          "base_uri": "https://localhost:8080/"
        },
        "id": "p3rUcMz9ZCRA",
        "outputId": "d99160ce-0962-497d-9db2-e34d97facd4d"
      },
      "execution_count": 58,
      "outputs": [
        {
          "output_type": "stream",
          "name": "stdout",
          "text": [
            "Performing camera calibration for Image 1\n",
            "K: [[1.10338122e+03 6.18121324e+00 2.87611056e+02]\n",
            " [0.00000000e+00 1.08687346e+03 5.92085512e+02]\n",
            " [0.00000000e+00 0.00000000e+00 1.00000000e+00]] \n",
            "\n",
            "R: [[ 0.52417528 -0.21526337 -0.82395507]\n",
            " [ 0.08674089  0.97598946 -0.19980137]\n",
            " [ 0.84718138  0.03326034  0.53026169]] \n",
            "\n",
            "t: [ -5.91121212   0.62483756 -18.69328709] \n",
            "\n",
            "Performing camera calibration for Image 2\n",
            "K: [[1.05773353e+03 1.48980133e+01 2.29424806e+02]\n",
            " [0.00000000e+00 1.07507580e+03 7.04215704e+02]\n",
            " [0.00000000e+00 0.00000000e+00 1.00000000e+00]] \n",
            "\n",
            "R: [[ 0.38089299 -0.42282118 -0.82227902]\n",
            " [ 0.09563512  0.90256236 -0.41980365]\n",
            " [ 0.91965997  0.08126151  0.38421623]] \n",
            "\n",
            "t: [ -8.54710566   3.36008899 -20.86681714] \n",
            "\n",
            "Performing camera calibration for Image 3\n",
            "K: [[1.17486128e+03 5.15176069e+01 6.69563861e+02]\n",
            " [0.00000000e+00 1.09651871e+03 5.08964772e+02]\n",
            " [0.00000000e+00 0.00000000e+00 1.00000000e+00]] \n",
            "\n",
            "R: [[ 0.80002493  0.10583998 -0.59055738]\n",
            " [ 0.09049419 -0.99434291 -0.05561462]\n",
            " [-0.59310279 -0.00894893 -0.80507701]] \n",
            "\n",
            "t: [-0.40296043  0.83067233 19.5347009 ] \n",
            "\n",
            "Performing camera calibration for Image 4\n",
            "K: [[ 1.89187490e+03 -8.33150429e+01  4.13347227e+02]\n",
            " [ 0.00000000e+00  1.81169765e+03  3.28601186e+02]\n",
            " [ 0.00000000e+00  0.00000000e+00  1.00000000e+00]] \n",
            "\n",
            "R: [[ 0.68936659 -0.00340716 -0.72440465]\n",
            " [ 0.01121209 -0.99981897  0.01537232]\n",
            " [-0.72432589 -0.01871925 -0.6892036 ]] \n",
            "\n",
            "t: [ 6.10420235  5.51819132 27.18860841] \n",
            "\n",
            "Performing camera calibration for Image 5\n",
            "K: [[1.62799829e+03 7.45600363e+00 9.13257355e+02]\n",
            " [0.00000000e+00 1.48866432e+03 7.34273804e+02]\n",
            " [0.00000000e+00 0.00000000e+00 1.00000000e+00]] \n",
            "\n",
            "R: [[ 0.84659748  0.05052658 -0.52982994]\n",
            " [-0.24996679  0.91660852 -0.3120023 ]\n",
            " [ 0.46988223  0.39658025  0.78862843]] \n",
            "\n",
            "t: [  1.593196     2.20273036 -20.36361615] \n",
            "\n",
            "Performing camera calibration for Image 6\n",
            "K: [[704.90178658 -21.71313827 360.04485953]\n",
            " [  0.         745.3962938  510.88812425]\n",
            " [  0.           0.           1.        ]] \n",
            "\n",
            "R: [[ 0.36798921 -0.50074938 -0.78347559]\n",
            " [ 0.31601762  0.85979749 -0.40109991]\n",
            " [ 0.87448088 -0.09999165  0.47464182]] \n",
            "\n",
            "t: [ -6.77003725  -0.17379442 -15.01690321] \n",
            "\n",
            "Performing camera calibration for Image 7\n",
            "K: [[879.63981364  -6.28629152 495.51539764]\n",
            " [  0.         857.04705672 519.70301082]\n",
            " [  0.           0.           1.        ]] \n",
            "\n",
            "R: [[ 0.58828056 -0.26844381 -0.76280004]\n",
            " [-0.11165104 -0.96122143  0.25216543]\n",
            " [-0.800912   -0.06317661 -0.59543991]] \n",
            "\n",
            "t: [ 4.07131345 -0.08600762 17.51060196] \n",
            "\n",
            "Performing camera calibration for Image 8\n",
            "K: [[879.63981364  -6.28629152 495.51539764]\n",
            " [  0.         857.04705672 519.70301082]\n",
            " [  0.           0.           1.        ]] \n",
            "\n",
            "R: [[ 0.58828056 -0.26844381 -0.76280004]\n",
            " [-0.11165104 -0.96122143  0.25216543]\n",
            " [-0.800912   -0.06317661 -0.59543991]] \n",
            "\n",
            "t: [ 4.07131345 -0.08600762 17.51060196] \n",
            "\n",
            "Performing camera calibration for Image 9\n",
            "K: [[1.49919122e+03 4.56084764e+00 4.77931435e+02]\n",
            " [0.00000000e+00 1.38200811e+03 9.73395104e+01]\n",
            " [0.00000000e+00 0.00000000e+00 1.00000000e+00]] \n",
            "\n",
            "R: [[ 0.67481526  0.26129825 -0.69017939]\n",
            " [-0.01534618 -0.93004856 -0.36711601]\n",
            " [-0.73782712  0.2583271  -0.62360103]] \n",
            "\n",
            "t: [ 2.3659992   8.02339356 24.49368431] \n",
            "\n",
            "Performing camera calibration for Image 10\n",
            "K: [[9.74238212e+02 3.02894305e-01 7.08910878e+02]\n",
            " [0.00000000e+00 9.38383469e+02 4.62198909e+02]\n",
            " [0.00000000e+00 0.00000000e+00 1.00000000e+00]] \n",
            "\n",
            "R: [[ 0.81372334 -0.07249901 -0.57671329]\n",
            " [ 0.06626856  0.9972928  -0.0318676 ]\n",
            " [ 0.57746238 -0.01228655  0.81632484]] \n",
            "\n",
            "t: [  0.8053369   -1.07074279 -17.61220958] \n",
            "\n",
            "Performing camera calibration for Image 11\n",
            "K: [[1.20170827e+03 2.54326359e+01 5.93049529e+02]\n",
            " [0.00000000e+00 1.13494174e+03 4.93251392e+02]\n",
            " [0.00000000e+00 0.00000000e+00 1.00000000e+00]] \n",
            "\n",
            "R: [[ 0.74810655  0.01746417 -0.66334877]\n",
            " [-0.0295372   0.9995392  -0.00699609]\n",
            " [ 0.66292091  0.02482729  0.74827767]] \n",
            "\n",
            "t: [ -0.76226739  -0.86838394 -17.62128955] \n",
            "\n",
            "Performing camera calibration for Image 12\n",
            "K: [[ 1.88283187e+03  1.31067121e+02  8.92465856e+02]\n",
            " [ 0.00000000e+00  1.60935565e+03 -2.81313872e+02]\n",
            " [ 0.00000000e+00  0.00000000e+00  1.00000000e+00]] \n",
            "\n",
            "R: [[ 0.85177331  0.12167679 -0.5095851 ]\n",
            " [-0.1491429  -0.87609846 -0.45848433]\n",
            " [-0.50223363  0.46652572 -0.72809006]] \n",
            "\n",
            "t: [-4.86911789 16.80442043 32.74067224] \n",
            "\n",
            "Performing camera calibration for Image 13\n",
            "K: [[ 1.88283187e+03  1.31067121e+02  8.92465856e+02]\n",
            " [ 0.00000000e+00  1.60935565e+03 -2.81313872e+02]\n",
            " [ 0.00000000e+00  0.00000000e+00  1.00000000e+00]] \n",
            "\n",
            "R: [[ 0.85177331  0.12167679 -0.5095851 ]\n",
            " [-0.1491429  -0.87609846 -0.45848433]\n",
            " [-0.50223363  0.46652572 -0.72809006]] \n",
            "\n",
            "t: [-4.86911789 16.80442043 32.74067224] \n",
            "\n",
            "Performing camera calibration for Image 14\n",
            "K: [[1.08432744e+03 1.28572936e+02 1.44668190e+02]\n",
            " [0.00000000e+00 1.16597826e+03 6.42697823e+02]\n",
            " [0.00000000e+00 0.00000000e+00 1.00000000e+00]] \n",
            "\n",
            "R: [[ 0.44114696  0.20445067 -0.87383596]\n",
            " [ 0.30505196 -0.94988753 -0.0682421 ]\n",
            " [-0.84399802 -0.23646058 -0.48140808]] \n",
            "\n",
            "t: [12.91349323 -2.53917163 26.40306062] \n",
            "\n",
            "Performing camera calibration for Image 15\n",
            "K: [[1.08432744e+03 1.28572936e+02 1.44668190e+02]\n",
            " [0.00000000e+00 1.16597826e+03 6.42697823e+02]\n",
            " [0.00000000e+00 0.00000000e+00 1.00000000e+00]] \n",
            "\n",
            "R: [[ 0.44114696  0.20445067 -0.87383596]\n",
            " [ 0.30505196 -0.94988753 -0.0682421 ]\n",
            " [-0.84399802 -0.23646058 -0.48140808]] \n",
            "\n",
            "t: [12.91349323 -2.53917163 26.40306062] \n",
            "\n"
          ]
        }
      ]
    },
    {
      "cell_type": "code",
      "source": [
        "def averaged_parameters():\n",
        "\n",
        "  def avg(x):\n",
        "    s = 0\n",
        "    for i in range(len(x)):\n",
        "      s+=x[i]\n",
        "    return s/len(x)\n",
        "  error = avg(rmse)\n",
        "  i1 = avg(alpha)\n",
        "  i2 = avg(beta)\n",
        "  i3 = avg(theta)\n",
        "  i4 = avg(x0)\n",
        "  i5 = avg(y0)\n",
        "  e1 = avg(rho)\n",
        "  print('Averaged RMSE error :', error)\n",
        "  print('alpha:', i1)\n",
        "  print('beta:', i2)\n",
        "  print('theta:', i3)\n",
        "  print('x0:', i4)\n",
        "  print('y0:', i5)\n",
        "  print('rho (scaling factor):', e1)"
      ],
      "metadata": {
        "id": "iyXF60txbMHN"
      },
      "execution_count": 59,
      "outputs": []
    },
    {
      "cell_type": "code",
      "source": [
        "averaged_parameters()"
      ],
      "metadata": {
        "colab": {
          "base_uri": "https://localhost:8080/"
        },
        "id": "zzq8G88cecdT",
        "outputId": "bcf45363-d465-45ea-a2ac-333e2a1001de"
      },
      "execution_count": 60,
      "outputs": [
        {
          "output_type": "stream",
          "name": "stdout",
          "text": [
            "Averaged RMSE error : 1.3948199373250298\n",
            "alpha: 1261.96579722155\n",
            "beta: 1199.7816470536552\n",
            "theta: 91.44595547525287\n",
            "x0: 514.5626595250728\n",
            "y0: 412.9328558542285\n",
            "rho (scaling factor): -34.82051986697659\n"
          ]
        }
      ]
    }
  ]
}